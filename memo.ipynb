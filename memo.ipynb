{
 "cells": [
  {
   "attachments": {},
   "cell_type": "markdown",
   "metadata": {},
   "source": [
    "# 標準入力"
   ]
  },
  {
   "cell_type": "code",
   "execution_count": null,
   "metadata": {},
   "outputs": [],
   "source": [
    "A, B = map(int, input().split())\n",
    "A = list(map(int, input().split()))\n"
   ]
  },
  {
   "attachments": {},
   "cell_type": "markdown",
   "metadata": {},
   "source": [
    "# 文字列の中の特定の文字のインデックスを探す"
   ]
  },
  {
   "cell_type": "code",
   "execution_count": 1,
   "metadata": {},
   "outputs": [],
   "source": [
    "S =  \"RNBQKBNR\"\n",
    "# 前から探す\n",
    "f_i = S.find(\"R\")\n",
    "# 後ろから探す\n",
    "l_i = S.rfind(\"R\")"
   ]
  },
  {
   "attachments": {},
   "cell_type": "markdown",
   "metadata": {},
   "source": [
    "# 二つの数字の偶奇が異なる\n",
    "\n",
    "それぞれの数字を2で割った余りは異なれば、偶奇が異なる\n",
    "\n",
    "位置の偶奇が異なるとは、間に挟まっている文字が偶数個である"
   ]
  },
  {
   "cell_type": "code",
   "execution_count": 5,
   "metadata": {},
   "outputs": [
    {
     "name": "stdout",
     "output_type": "stream",
     "text": [
      "False\n",
      "True\n"
     ]
    }
   ],
   "source": [
    "#偶奇が異なる\n",
    "print(1 % 2 == 2 % 2)\n",
    "\n",
    "#同じ\n",
    "print(4%2==2%2)"
   ]
  },
  {
   "attachments": {},
   "cell_type": "markdown",
   "metadata": {},
   "source": [
    "# 複数のif条件\n",
    "if分を変数で定義して、print内にandで条件付けする"
   ]
  },
  {
   "cell_type": "code",
   "execution_count": 6,
   "metadata": {},
   "outputs": [
    {
     "name": "stdout",
     "output_type": "stream",
     "text": [
      "No\n"
     ]
    }
   ],
   "source": [
    "S = input()\n",
    "c1 = (S.rfind('B') - S.find('B')) % 2 == 1\n",
    "c2 = S.find('R') < S.find('K') < S.rfind('R')\n",
    "print('Yes' if c1 and c2 else 'No')"
   ]
  },
  {
   "attachments": {},
   "cell_type": "markdown",
   "metadata": {},
   "source": [
    "# 文字列の特定の文字を、違う文字に変える\n",
    "\n",
    "replace()関数を用いる"
   ]
  },
  {
   "cell_type": "code",
   "execution_count": null,
   "metadata": {},
   "outputs": [],
   "source": [
    "H, W = map(int, input().split())\n",
    "for _ in range(H):\n",
    "    print(input().replace('TT', 'PC'))"
   ]
  },
  {
   "attachments": {},
   "cell_type": "markdown",
   "metadata": {},
   "source": [
    "# 変数を大きさによって、入れ替える"
   ]
  },
  {
   "cell_type": "code",
   "execution_count": 7,
   "metadata": {},
   "outputs": [],
   "source": [
    "def swap(a, b):\n",
    "    if (b > a):\n",
    "        a, b = b, a\n",
    "    return a, b"
   ]
  },
  {
   "attachments": {},
   "cell_type": "markdown",
   "metadata": {},
   "source": [
    "# 挿入ソート\n",
    "indexは左から<br>\n",
    "比較する方向は右から左<br>\n",
    "\n",
    "[2, 3, 1] => [1, 2, 3]\n",
    "\n",
    "Step1. <br>\n",
    "+ <--<br>\n",
    "+ [2, ③, 1]\n",
    "    \n",
    "Step2. <br>\n",
    "+ <----- <br>\n",
    "+ [2, 3, ①]<br>\n",
    "     <br>\n",
    "+ <--- <br>\n",
    "+ [2, ①, 3]<br>\n",
    "     <br>\n",
    "+ [③, 2, 3]"
   ]
  },
  {
   "cell_type": "code",
   "execution_count": 57,
   "metadata": {},
   "outputs": [],
   "source": [
    "def insertionSort(A, N):\n",
    "    cnt = 0\n",
    "    for i in range(N):\n",
    "        v = A[i]\n",
    "        j = i - 1\n",
    "        while (j >= 0) & (A[j]>v):\n",
    "            cnt += 1\n",
    "            A[j+1] = A[j]\n",
    "            j -= 1\n",
    "        A[j+1] = v\n",
    "    return cnt"
   ]
  },
  {
   "cell_type": "code",
   "execution_count": null,
   "metadata": {},
   "outputs": [],
   "source": []
  }
 ],
 "metadata": {
  "kernelspec": {
   "display_name": "mido_test",
   "language": "python",
   "name": "python3"
  },
  "language_info": {
   "codemirror_mode": {
    "name": "ipython",
    "version": 3
   },
   "file_extension": ".py",
   "mimetype": "text/x-python",
   "name": "python",
   "nbconvert_exporter": "python",
   "pygments_lexer": "ipython3",
   "version": "3.9.0"
  },
  "orig_nbformat": 4
 },
 "nbformat": 4,
 "nbformat_minor": 2
}
