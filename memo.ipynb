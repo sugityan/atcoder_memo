{
 "cells": [
  {
   "attachments": {},
   "cell_type": "markdown",
   "metadata": {},
   "source": [
    "# 標準入力"
   ]
  },
  {
   "cell_type": "code",
   "execution_count": null,
   "metadata": {},
   "outputs": [],
   "source": [
    "A, B = map(int, input().split())\n",
    "A = list(map(int, input().split()))\n"
   ]
  },
  {
   "attachments": {},
   "cell_type": "markdown",
   "metadata": {},
   "source": [
    "# 文字列の中の特定の文字のインデックスを探す"
   ]
  },
  {
   "cell_type": "code",
   "execution_count": 1,
   "metadata": {},
   "outputs": [],
   "source": [
    "S =  \"RNBQKBNR\"\n",
    "# 前から探す\n",
    "f_i = S.find(\"R\")\n",
    "# 後ろから探す\n",
    "l_i = S.rfind(\"R\")"
   ]
  },
  {
   "attachments": {},
   "cell_type": "markdown",
   "metadata": {},
   "source": [
    "# 二つの数字の偶奇が異なる\n",
    "\n",
    "それぞれの数字を2で割った余りは異なれば、偶奇が異なる\n",
    "\n",
    "位置の偶奇が異なるとは、間に挟まっている文字が偶数個である"
   ]
  },
  {
   "cell_type": "code",
   "execution_count": 5,
   "metadata": {},
   "outputs": [
    {
     "name": "stdout",
     "output_type": "stream",
     "text": [
      "False\n",
      "True\n"
     ]
    }
   ],
   "source": [
    "#偶奇が異なる\n",
    "print(1 % 2 == 2 % 2)\n",
    "\n",
    "#同じ\n",
    "print(4%2==2%2)"
   ]
  },
  {
   "attachments": {},
   "cell_type": "markdown",
   "metadata": {},
   "source": [
    "# 複数のif条件\n",
    "if分を変数で定義して、print内にandで条件付けする"
   ]
  },
  {
   "cell_type": "code",
   "execution_count": 6,
   "metadata": {},
   "outputs": [
    {
     "name": "stdout",
     "output_type": "stream",
     "text": [
      "No\n"
     ]
    }
   ],
   "source": [
    "S = input()\n",
    "c1 = (S.rfind('B') - S.find('B')) % 2 == 1\n",
    "c2 = S.find('R') < S.find('K') < S.rfind('R')\n",
    "print('Yes' if c1 and c2 else 'No')"
   ]
  },
  {
   "attachments": {},
   "cell_type": "markdown",
   "metadata": {},
   "source": [
    "# 文字列の特定の文字を、違う文字に変える\n",
    "\n",
    "replace()関数を用いる"
   ]
  },
  {
   "cell_type": "code",
   "execution_count": 1,
   "metadata": {},
   "outputs": [
    {
     "name": "stdout",
     "output_type": "stream",
     "text": [
      "PCg\n",
      "1PC\n"
     ]
    }
   ],
   "source": [
    "H = int(input())\n",
    "for _ in range(H):\n",
    "    print(input().replace('TT', 'PC'))"
   ]
  },
  {
   "attachments": {},
   "cell_type": "markdown",
   "metadata": {},
   "source": [
    "# 変数を大きさによって、入れ替える"
   ]
  },
  {
   "cell_type": "code",
   "execution_count": 1,
   "metadata": {},
   "outputs": [],
   "source": [
    "def swap(a, b):\n",
    "    if (b > a):\n",
    "        a, b = b, a\n",
    "    return a, b"
   ]
  },
  {
   "attachments": {},
   "cell_type": "markdown",
   "metadata": {},
   "source": [
    "# リストの縦方向の要素の総和"
   ]
  },
  {
   "cell_type": "code",
   "execution_count": 2,
   "metadata": {},
   "outputs": [],
   "source": [
    "A = [[1,2,3],[3,4,5]]\n",
    "W = 3\n",
    "H = 2\n",
    "\n",
    "Col = [0] * (W)\n",
    "\n",
    "for i in range(W):\n",
    "    for j in range(H):\n",
    "        Col[i] += A[j][i]"
   ]
  },
  {
   "attachments": {},
   "cell_type": "markdown",
   "metadata": {},
   "source": [
    "# dict内のlistを競プロ用に出力をする"
   ]
  },
  {
   "cell_type": "code",
   "execution_count": 5,
   "metadata": {},
   "outputs": [
    {
     "name": "stdout",
     "output_type": "stream",
     "text": [
      "1 2 3\n",
      "4 5 6\n",
      "7 8 9\n"
     ]
    }
   ],
   "source": [
    "ans = {0: [1, 2, 3], 1: [4, 5, 6], 2: [7, 8, 9]}\n",
    "for i in range(3):\n",
    "    print(\" \".join(map(str, ans[i])))"
   ]
  },
  {
   "attachments": {},
   "cell_type": "markdown",
   "metadata": {},
   "source": [
    "# 組み合わせを列挙(全探索)"
   ]
  },
  {
   "cell_type": "code",
   "execution_count": 7,
   "metadata": {},
   "outputs": [
    {
     "name": "stdout",
     "output_type": "stream",
     "text": [
      "[(1, 2), (1, 3), (2, 3)]\n"
     ]
    }
   ],
   "source": [
    "from itertools import combinations\n",
    "A = [1,2,3]\n",
    "r = 2\n",
    "combination = list(combinations(A,r))\n",
    "print(combination)"
   ]
  },
  {
   "attachments": {},
   "cell_type": "markdown",
   "metadata": {},
   "source": [
    "# 桁数を指定して、十進数を二進数にする"
   ]
  },
  {
   "cell_type": "code",
   "execution_count": 10,
   "metadata": {},
   "outputs": [
    {
     "name": "stdout",
     "output_type": "stream",
     "text": [
      "101\n"
     ]
    }
   ],
   "source": [
    "N = 3 #3桁に指定\n",
    "x = 5 #5を2進数表記にする\n",
    "print(format(x, \"0\"+str(N)+\"b\"))"
   ]
  },
  {
   "attachments": {},
   "cell_type": "markdown",
   "metadata": {},
   "source": [
    "# 指定した文字の組み合わせとなる文字を作る"
   ]
  },
  {
   "cell_type": "code",
   "execution_count": 4,
   "metadata": {},
   "outputs": [
    {
     "name": "stdout",
     "output_type": "stream",
     "text": [
      "('(', '(')\n",
      "('(', ')')\n",
      "(')', '(')\n",
      "(')', ')')\n"
     ]
    }
   ],
   "source": [
    "from itertools import product\n",
    "\n",
    "N = 2\n",
    "for S in product(['(', ')'], repeat=N):\n",
    "    print(S)"
   ]
  },
  {
   "attachments": {},
   "cell_type": "markdown",
   "metadata": {},
   "source": [
    "# リスト内の同じ値をもつ要素のインデックスを取得"
   ]
  },
  {
   "cell_type": "code",
   "execution_count": 9,
   "metadata": {},
   "outputs": [
    {
     "name": "stdout",
     "output_type": "stream",
     "text": [
      "[2, 5, 6]\n"
     ]
    }
   ],
   "source": [
    "mylist = [1, 2, 3, 4, 5, 3, 3,]\n",
    "indexes = [i for i, e in enumerate(mylist) if e == 3]\n",
    "print(indexes)"
   ]
  },
  {
   "attachments": {},
   "cell_type": "markdown",
   "metadata": {},
   "source": [
    "# 行列の回転\n",
    "\n",
    "4回回転して元通りになるということは、(+-)90度回転を表す"
   ]
  },
  {
   "cell_type": "code",
   "execution_count": 1,
   "metadata": {},
   "outputs": [
    {
     "name": "stdout",
     "output_type": "stream",
     "text": [
      "[[7 4 1]\n",
      " [8 5 2]\n",
      " [9 6 3]]\n",
      "----------\n",
      "[[3, 6, 9], [2, 5, 8], [1, 4, 7]]\n"
     ]
    }
   ],
   "source": [
    "import numpy as np\n",
    "\n",
    "#90度に回転\n",
    "a = [[1,2,3], [4,5,6],[7,8,9]]\n",
    "a = np.rot90(a)\n",
    "a = np.rot90(a)\n",
    "print(np.rot90(a))\n",
    "\n",
    "print(\"-\"*10)\n",
    "'''\n",
    "-90度に回転\n",
    "N = len(A)\n",
    "A[i][j] => A[N+1-j][i]方向に回転\n",
    "\n",
    "下の例では、N=3\n",
    "'''\n",
    "a = [[1,2,3], [4,5,6],[7,8,9]]\n",
    "\n",
    "'''\n",
    "以下の場合には、うまくいかない\n",
    "対策：\n",
    "https://teratail.com/questions/gqpyjznf4d82t0\n",
    "preA = a\n",
    "'''\n",
    "preA = [[1,2,3], [4,5,6],[7,8,9]]\n",
    "N = len(a)\n",
    "for i in range(N):\n",
    "    for j in range(N):\n",
    "        a[N-i-1][j] = preA[j][i]\n",
    "print(a)"
   ]
  },
  {
   "attachments": {},
   "cell_type": "markdown",
   "metadata": {},
   "source": [
    "# 行列の中の値が、他の行列の値に含まれるか確認"
   ]
  },
  {
   "cell_type": "code",
   "execution_count": 24,
   "metadata": {},
   "outputs": [
    {
     "name": "stdout",
     "output_type": "stream",
     "text": [
      "True\n",
      "False\n"
     ]
    }
   ],
   "source": [
    "import numpy as np\n",
    "\n",
    "'''\n",
    "aの行列にある1が、bの行列にある1の場所にもあるか確認\n",
    "'''\n",
    "a = np.array([[0, 1, 1], [1, 1, 1], [1, 0 , 1]])\n",
    "b = np.array([[0, 1, 1], [1, 1, 1,], [1, 1, 1]])\n",
    "print(np.min(b-a) >= 0)\n",
    "\n",
    "\n",
    "\n",
    "'''\n",
    "文字列の場合\n",
    "'''\n",
    "a = [[\"t\", \"t\", \"k\"], [\"k\", \"t\", \"k\"], [\"t\", \"t\", \"k\"]]\n",
    "b = [[\"t\", \"k\", \"k\"], [\"k\", \"k\", \"k\"], [\"t\", \"t\", \"k\"]]\n",
    "\n",
    "def convert(matlix):\n",
    "    for i in range(len(matlix)):\n",
    "        for j in range(len(matlix[i])):\n",
    "            if matlix[i][j] == \"t\":\n",
    "                matlix[i][j] = 1\n",
    "            else:\n",
    "                matlix[i][j] = 0\n",
    "    return matlix\n",
    "a = np.array(convert(a))\n",
    "b = np.array(convert(b))\n",
    "print(np.min(b-a) >0 )"
   ]
  },
  {
   "cell_type": "code",
   "execution_count": null,
   "metadata": {},
   "outputs": [],
   "source": []
  }
 ],
 "metadata": {
  "kernelspec": {
   "display_name": "mido_test",
   "language": "python",
   "name": "python3"
  },
  "language_info": {
   "codemirror_mode": {
    "name": "ipython",
    "version": 3
   },
   "file_extension": ".py",
   "mimetype": "text/x-python",
   "name": "python",
   "nbconvert_exporter": "python",
   "pygments_lexer": "ipython3",
   "version": "3.9.0"
  },
  "orig_nbformat": 4
 },
 "nbformat": 4,
 "nbformat_minor": 2
}
