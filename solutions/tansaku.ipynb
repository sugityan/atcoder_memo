{
 "cells": [
  {
   "cell_type": "markdown",
   "metadata": {},
   "source": [
    "# bit全探索\n",
    "全探索後に小さい制約を元に出力\n",
    "\n",
    "問題：https://atcoder.jp/contests/typical90/tasks/typical90_b\n",
    "\n",
    "<ol>\n",
    "<li>####step全探索する\n",
    "<li>制約を満たす値を出力\n",
    "</ol>"
   ]
  },
  {
   "cell_type": "markdown",
   "metadata": {},
   "source": []
  }
 ],
 "metadata": {
  "language_info": {
   "name": "python"
  },
  "orig_nbformat": 4
 },
 "nbformat": 4,
 "nbformat_minor": 2
}
