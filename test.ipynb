{
 "cells": [
  {
   "cell_type": "code",
   "execution_count": null,
   "metadata": {},
   "outputs": [],
   "source": [
    "class Solution:\n",
    "    def lengthOfLastWord(self, s: str) -> int:\n",
    "        r_s = s[::-1]\n",
    "        n = 0\n",
    "        for w in r_s:\n",
    "            if (w == \" \") & (n != 0):\n",
    "                print(\"Here\")\n",
    "                break\n",
    "            elif (n==0) & (w==\" \"):\n",
    "                continue\n",
    "            else:\n",
    "                n += 1\n",
    "        return n\n",
    "    \n",
    "    def plusOne(self, digits: list[int]) -> list[int]:\n",
    "        th = 1\n",
    "        ans = 0\n",
    "        for ele in digits[::-1]:\n",
    "            if ans != 0:\n",
    "                th *= 10\n",
    "                ans += ele * th\n",
    "            else:\n",
    "                ans += ele + 1\n",
    "        return [int(x) for x in list(str(ans))]\n",
    "    \n",
    "    def addBinary(self, a: str, b: str) -> str:\n",
    "        s = []\n",
    "        carry = 0\n",
    "        i = len(a) - 1\n",
    "        j = len(b) - 1\n",
    "\n",
    "        while i >= 0 or j >= 0 or carry:\n",
    "            if i >= 0:\n",
    "                carry += int(a[i])\n",
    "                i -= 1\n",
    "            if j >= 0:\n",
    "                carry += int(b[j])\n",
    "                j -= 1\n",
    "            s.append(str(carry % 2))\n",
    "            carry //= 2\n",
    "\n",
    "        return ''.join(reversed(s))\n",
    "\n",
    "    def mySqrt(self, x: int) -> int:\n",
    "        if x == 1 or x == 0:\n",
    "            return x\n",
    "        else:\n",
    "            for k in range(2, x//2+1):\n",
    "                if (x / k) ** 2 < x:\n",
    "                    return k - 1\n",
    "                \n",
    "    def pureRecursive(self, n: int) -> int:\n",
    "        def climb(n):\n",
    "            if n == 1:\n",
    "                return 1\n",
    "            if n == 2:\n",
    "                return 2\n",
    "            if n == 3:\n",
    "                return 4\n",
    "            return climb(n-1) + climb(n-2) + climb(n - 3)\n",
    "        return climb(n)\n",
    "    \n",
    "    def loopUpTable(self, n: int) -> int:\n",
    "        \"\"\"\n",
    "        :type n: int\n",
    "        :return type: int\n",
    "        \"\"\"\n",
    "        memo ={}\n",
    "        memo[1] = 1\n",
    "        memo[2] = 2\n",
    "        \n",
    "        def climb(n):\n",
    "            if n in memo: # if the recurssion already done before first take a look-up in the look-up table\n",
    "                return memo[n]\n",
    "            else:   # Store the recurssion function in the look-up table and reuturn the stored look-up table function\n",
    "                memo[n] =  climb(n-1) + climb(n-2)\n",
    "                return memo[n]\n",
    "        \n",
    "        return climb(n)"
   ]
  },
  {
   "cell_type": "code",
   "execution_count": null,
   "metadata": {},
   "outputs": [],
   "source": [
    "def merge(nums1: list[int], m: int, nums2: list[int], n: int) -> None:\n",
    "    \"\"\"\n",
    "    Do not return anything, modify nums1 in-place instead.\n",
    "    \"\"\"\n",
    "    ans = [0]*m\n",
    "    k = 0\n",
    "    for i in range(m):\n",
    "        curr = nums1[k]\n",
    "        while m < k:\n",
    "            if nums1[k] > nums2[i]:\n",
    "                ans.append(curr)\n",
    "                k += 1\n",
    "\n",
    "        \n",
    "    return nums1"
   ]
  },
  {
   "cell_type": "code",
   "execution_count": null,
   "metadata": {},
   "outputs": [],
   "source": [
    "dict_climb = {\"1\": 1, \"2\": 2}\n",
    "def climb(n):\n",
    "    for i in range(3, n+1):\n",
    "        dict_climb[str(i)] = dict_climb[str(i-1)] + dict_climb[str(i-2)]\n",
    "\n",
    "    return dict_climb[str(n)]"
   ]
  },
  {
   "cell_type": "code",
   "execution_count": null,
   "metadata": {},
   "outputs": [],
   "source": [
    "nums1 = [1,2,3,0,0,0]\n",
    "m = 3\n",
    "nums2 = [2,5,6]\n",
    "n = 3\n",
    "ans = []\n",
    "nums1 = nums1[:-n]\n",
    "\n",
    "m -= 1\n",
    "n -= 1\n",
    "while m>-1 or n>-1:\n",
    "    print(m, n)\n",
    "    if nums1[m] > nums2[n]:\n",
    "        ans.append(nums1[m])\n",
    "        m -= 1\n",
    "        if m == 0:\n",
    "            ans.append(nums2)\n",
    "            break\n",
    "    else:\n",
    "        ans.append(nums2[n])\n",
    "        n -= 1\n",
    "        if n == 0:\n",
    "            ans.append(nums1)\n",
    "            break\n",
    "print(ans)"
   ]
  },
  {
   "cell_type": "code",
   "execution_count": null,
   "metadata": {},
   "outputs": [],
   "source": []
  },
  {
   "cell_type": "code",
   "execution_count": null,
   "metadata": {},
   "outputs": [],
   "source": [
    "N, D = map(int, input().split())\n",
    "T = list(map(int, input().split()))\n",
    "j = 0\n",
    "ans = -1\n",
    "while (N-1) > j:\n",
    "    # print(i)\n",
    "    # print(T[i] - T[i-1])\n",
    "    if T[j+1] - T[j] <= D:\n",
    "        ans = T[j+1]\n",
    "        break\n",
    "    j += 1\n",
    "\n",
    "print(ans)"
   ]
  },
  {
   "cell_type": "code",
   "execution_count": null,
   "metadata": {},
   "outputs": [],
   "source": [
    "N, D = map(int, input().split())\n",
    "T = list(map(int, input().split()))\n",
    "\n",
    "ans = -1\n",
    "for i in range(len(T)-1):\n",
    "    if T[i+1] - T[i] <= D:\n",
    "        ans = T[i+1]\n",
    "        break\n",
    "\n",
    "print(ans)"
   ]
  },
  {
   "cell_type": "code",
   "execution_count": null,
   "metadata": {},
   "outputs": [],
   "source": [
    "S = input()\n",
    "\n",
    "\n",
    "ans = \"No\"\n",
    "\n",
    "if (S.find(\"B\")%2) != (S.rfind(\"B\")%2):\n",
    "    if S.find(\"R\") < S.find(\"K\") < S.rfind(\"R\"):\n",
    "        ans = \"Yes\"\n",
    "\n",
    "print(ans)"
   ]
  },
  {
   "cell_type": "code",
   "execution_count": null,
   "metadata": {},
   "outputs": [],
   "source": [
    "H, W = map(int, input().split())\n",
    "for _ in range(H):\n",
    "    S = list(input())\n",
    "    i = 0\n",
    "    while i <= len(S)-2:\n",
    "        if S[i] + S[i+1] == \"TT\":\n",
    "            S[i] = \"P\"\n",
    "            S[i+1] = \"C\"\n",
    "            i += 2\n",
    "        else:\n",
    "            i += 1\n",
    "    print(\"\".join(S))"
   ]
  },
  {
   "cell_type": "code",
   "execution_count": null,
   "metadata": {},
   "outputs": [],
   "source": [
    "A, B = map(int, input().split())\n",
    "\n",
    "def swap(a, b):\n",
    "    if (b > a): a, b = b, a\n",
    "    return a, b\n",
    "\n",
    "A, B = swap(A, B)\n",
    "cnt = 0\n",
    "while (B>0):\n",
    "    cnt += A // B\n",
    "    A %= B\n",
    "    A, B = swap(A, B)\n",
    "cnt -= 1\n",
    "print(cnt)"
   ]
  },
  {
   "cell_type": "code",
   "execution_count": null,
   "metadata": {},
   "outputs": [],
   "source": [
    "def swap(a, b):\n",
    "    if (b > a):\n",
    "        a, b = b, a\n",
    "    return a, b\n",
    "\n",
    "def bubbleSort(A, N):\n",
    "    flag = 1\n",
    "    i = 0\n",
    "    while flag:\n",
    "        flag = 0\n",
    "        for j in range(N-1, i+3):\n",
    "            print(j)\n",
    "            if A[j] < A[j-1]:\n",
    "                A[j], A[j-1] = swap(A[j], A[j-1])\n",
    "                flag = 1\n",
    "        print(i)\n",
    "        i += 1\n",
    "    return A\n",
    "\n",
    "\n",
    "print(bubbleSort([2, 1, 3], 3))\n",
    "    "
   ]
  },
  {
   "cell_type": "code",
   "execution_count": null,
   "metadata": {},
   "outputs": [],
   "source": [
    "A, B = map(int, input().split())\n",
    "  \n",
    "cnt = A // B - 1\n",
    "A %= B\n",
    "\n",
    "while A > 0:\n",
    "  if B > A:\n",
    "    A,B = B,A\n",
    "  cnt += A//B\n",
    "  A %= B\n",
    "  \n",
    "print(cnt)"
   ]
  },
  {
   "cell_type": "code",
   "execution_count": null,
   "metadata": {},
   "outputs": [],
   "source": [
    "N = int(input())"
   ]
  },
  {
   "cell_type": "code",
   "execution_count": null,
   "metadata": {},
   "outputs": [],
   "source": [
    "print(N*2)"
   ]
  },
  {
   "cell_type": "code",
   "execution_count": null,
   "metadata": {},
   "outputs": [],
   "source": [
    "H, W = map(int, input().split())\n",
    "\n",
    "X_dic = {}\n",
    "for i in range(H):\n",
    "    X_dic[i] = list(map(int, input().split()))\n",
    "\n",
    "Q = int(input())\n",
    "\n",
    "for _ in range(Q):\n",
    "    ans = 0\n",
    "    A,B,C,D = map(int, input().split())\n",
    "    while A != C+1:\n",
    "        ans += sum(X_dic[A-1][B-1:D])\n",
    "        A += 1\n",
    "    print(ans)"
   ]
  },
  {
   "cell_type": "code",
   "execution_count": null,
   "metadata": {},
   "outputs": [],
   "source": [
    "H, W = 5, 5\n",
    "X_dic = {}\n",
    "X_dic[0] = [2, 0, 0, 5, 1]\n",
    "print(sum(X_dic[0][1:5]))\n",
    "X_dic[1] = [1, 0, 3, 0, 0]\n",
    "print(sum(X_dic[1][1:5]))\n",
    "X_dic[2] = [0, 8, 5, 0, 2]\n",
    "print(sum(X_dic[2][1:5]))\n",
    "X_dic[3] = [4, 1, 0, 0, 6]\n",
    "print(sum(X_dic[3][1:5]))\n",
    "X_dic[4] = [0, 9, 2, 7, 0]\n",
    "print(sum(X_dic[4][1:5]))\n",
    "Q = 2\n",
    "f_list = [2, 2, 4, 5]\n",
    "s_list = [1, 1, 5, 5]\n"
   ]
  },
  {
   "cell_type": "code",
   "execution_count": null,
   "metadata": {},
   "outputs": [],
   "source": [
    "for _ in range(Q):\n",
    "    ans = 0\n",
    "    A,B,C,D = map(int, input().split())\n",
    "    while A != C+1:\n",
    "        ans += sum(X_dic[A-1][B-1:D])\n",
    "        A += 1\n",
    "    print(ans)"
   ]
  },
  {
   "cell_type": "code",
   "execution_count": null,
   "metadata": {},
   "outputs": [],
   "source": [
    "H,W = map(int, input().split())\n",
    "\n",
    "A = [ None ] * (H)\n",
    "sums_row =[]\n",
    "for i in range(H):\n",
    "    A[i] = list(map(int, input().split()))\n",
    "\n",
    "    sums_row.append(sum(A[i]))\n",
    "\t\n",
    "sums_col =[]\n",
    "for i in range(W):\n",
    "    s = 0\n",
    "    for j in range(H):\n",
    "        s += A[j][i]\n",
    "    sums_col.append(s)\n",
    "\n",
    "ans = [None] * (H)\n",
    "for i in range(H):\n",
    "    for j in range(W):\n",
    "        ans[i] = sums_col[j]+sums_row[i]\n",
    "\n",
    "print(ans)"
   ]
  },
  {
   "cell_type": "code",
   "execution_count": null,
   "metadata": {},
   "outputs": [],
   "source": [
    "print(sums_row)\n",
    "print(sums_col)"
   ]
  },
  {
   "cell_type": "code",
   "execution_count": 210,
   "metadata": {},
   "outputs": [
    {
     "name": "stdout",
     "output_type": "stream",
     "text": [
      "10 11 12\n",
      "16 17 18\n"
     ]
    }
   ],
   "source": [
    "H,W = map(int, input().split())\n",
    "\n",
    "A = [ None ] * (H)\n",
    "ans = {}\n",
    "\n",
    "for i in range(H):\n",
    "    A[i] = list(map(int, input().split()))\n",
    "\n",
    "Col = [0] * (W)\n",
    "Row = [0] * (H)\n",
    "\n",
    "for i in range(W):\n",
    "    for j in range(H):\n",
    "        Col[i] += A[j][i]\n",
    "        Row[j] += A[j][i]\n",
    "\n",
    "for j in range(H):\n",
    "    ans[j] = []\n",
    "    for i in range(W):\n",
    "        ans[j].append(Col[i] + Row[j] - A[j][i])\n",
    "\n",
    "for i in range(H):\n",
    "    print(\" \".join(map(str, ans[i])))"
   ]
  },
  {
   "attachments": {},
   "cell_type": "markdown",
   "metadata": {},
   "source": [
    "# https://atcoder.jp/contests/typical90/tasks/typical90_b"
   ]
  },
  {
   "cell_type": "code",
   "execution_count": 441,
   "metadata": {},
   "outputs": [
    {
     "name": "stdout",
     "output_type": "stream",
     "text": [
      "((()))\n",
      "(()())\n",
      "(())()\n",
      "()(())\n",
      "()()()\n",
      "())(()\n"
     ]
    }
   ],
   "source": [
    "N = int(input())\n",
    "\n",
    "if N % 2 == 1:\n",
    "     print()\n",
    "else:\n",
    "    ans_dic = {}\n",
    "    for i in range(2**N):\n",
    "            ans_dic[i] = format(i, \"0\"+str(N)+\"b\").replace(\"0\", \"(\").replace(\"1\", \")\")\n",
    "    for a in ans_dic.values():\n",
    "        if (a.count(\"(\") == a.count(\")\")) & (a[0] == \"(\") & (a[-1] == \")\"):\n",
    "            i = len(a) - 1\n",
    "            while i > 0:\n",
    "                if (a[:i].count(\"(\") > a[:i].count(\")\")): #左から数え上げてない。\n",
    "                    # print(a[:i])\n",
    "                    print(a)\n",
    "                    # print(\"-\"*10)\n",
    "                    break\n",
    "                i -= 1"
   ]
  },
  {
   "cell_type": "code",
   "execution_count": 385,
   "metadata": {},
   "outputs": [
    {
     "name": "stdout",
     "output_type": "stream",
     "text": [
      "(())\n",
      "()()\n"
     ]
    }
   ],
   "source": [
    "from itertools import product\n",
    "\n",
    "# カッコ列 S が整合しているかどうか\n",
    "def isvalid(S):\n",
    "    score = 0\n",
    "    for c in S:\n",
    "        if c == '(':\n",
    "            score += 1\n",
    "        else:\n",
    "            score -= 1\n",
    "\n",
    "        # 途中で 0 を下回るとダメ\n",
    "        if score < 0:\n",
    "            return False\n",
    "\n",
    "    # 最後に 0 なら True、そうでなければ False\n",
    "    return (score == 0)\n",
    "\n",
    "N = int(input())\n",
    "for S in product(['(', ')'], repeat=N):\n",
    "    if (isvalid(S)):\n",
    "        # リストを文字列に\n",
    "        print(*S, sep='')"
   ]
  },
  {
   "attachments": {},
   "cell_type": "markdown",
   "metadata": {},
   "source": [
    "# https://atcoder.jp/contests/abc298/tasks/abc298_b\n",
    "\n",
    "回転する数は4回"
   ]
  },
  {
   "cell_type": "code",
   "execution_count": 39,
   "metadata": {},
   "outputs": [
    {
     "name": "stdout",
     "output_type": "stream",
     "text": [
      "No\n"
     ]
    }
   ],
   "source": [
    "N = int(input())\n",
    "A = {}\n",
    "B = {}\n",
    "Bij = []\n",
    "for i in range(N):\n",
    "    A[i] = list(map(int, input().split()))\n",
    "\n",
    "for i in range(N):\n",
    "    B[i] = list(map(int, input().split()))\n",
    "    indexes = [j for j, e in enumerate(B[i]) if e == 1]\n",
    "    Bij.append(indexes)\n",
    "    \n",
    "\n",
    "ans = \"No\"\n",
    "cnt = 0\n",
    "while cnt < 5:\n",
    "    Aij = []\n",
    "    for i in range(N):\n",
    "        indexes = [j for j, e in enumerate(A[i]) if e == 1]\n",
    "        Aij.append(indexes)\n",
    "            \n",
    "    \"\"\"\n",
    "    判別条件ができない。\n",
    "    Aijの値がBijに含まれるのかどうか\n",
    "    \"\"\"\n",
    "    if Aij in Bij:\n",
    "        ans = \"Yes\"\n",
    "        break\n",
    "    else:\n",
    "        #回転\n",
    "        preA = Aij\n",
    "        for i in range(N):\n",
    "            for j in range(N):\n",
    "                A[N-i-1][j] = preA[j][i]\n",
    "        cnt += 1\n",
    "print(ans)\n"
   ]
  },
  {
   "attachments": {},
   "cell_type": "markdown",
   "metadata": {},
   "source": [
    "# https://atcoder.jp/contests/abc298/tasks/abc298_c"
   ]
  },
  {
   "cell_type": "code",
   "execution_count": null,
   "metadata": {},
   "outputs": [],
   "source": [
    "N = int(input())\n",
    "Q = int(input())\n",
    "\n",
    "box = {}\n",
    "cards = {}\n",
    "for k in range(N):\n",
    "    box[k+1] = []\n",
    "\n",
    "for k in range(2*(10**5)):\n",
    "    cards[k+1] = []\n",
    "\n",
    "def action(li, box):\n",
    "    cond, i = li[0], li[1]\n",
    "    if cond == 1:\n",
    "        j = li[2]\n",
    "        box[j].append(i)\n",
    "        cards[i].append(j)\n",
    "    elif cond == 2:\n",
    "        print(\" \".join(map(str, sorted(box[i]))))\n",
    "    else:\n",
    "        print(\" \".join(map(str, sorted(set(cards[i])))))\n",
    "\n",
    "        # ans = []\n",
    "        # for k in range(N):\n",
    "        #     if i in box[k]:\n",
    "        #         ans.append(k)\n",
    "        # print(\" \".join(map(str, ans)))\n",
    "    return box\n",
    "\n",
    "for _ in range(Q):\n",
    "    li = list(map(int, input().split()))\n",
    "    box = action(li, box)"
   ]
  },
  {
   "cell_type": "code",
   "execution_count": 79,
   "metadata": {},
   "outputs": [
    {
     "name": "stdout",
     "output_type": "stream",
     "text": [
      "\n"
     ]
    }
   ],
   "source": [
    "print(\"\".join(map(str, sorted(set([])))))"
   ]
  },
  {
   "cell_type": "code",
   "execution_count": null,
   "metadata": {},
   "outputs": [],
   "source": []
  }
 ],
 "metadata": {
  "kernelspec": {
   "display_name": "mido_test",
   "language": "python",
   "name": "python3"
  },
  "language_info": {
   "codemirror_mode": {
    "name": "ipython",
    "version": 3
   },
   "file_extension": ".py",
   "mimetype": "text/x-python",
   "name": "python",
   "nbconvert_exporter": "python",
   "pygments_lexer": "ipython3",
   "version": "3.9.0"
  },
  "orig_nbformat": 4,
  "vscode": {
   "interpreter": {
    "hash": "db734b56a23fa17c3e64b0c6d1d8aec7f36c788908e32aa40784c093635a9a9d"
   }
  }
 },
 "nbformat": 4,
 "nbformat_minor": 2
}
