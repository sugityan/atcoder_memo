{
 "cells": [
  {
   "cell_type": "code",
   "execution_count": 92,
   "metadata": {},
   "outputs": [],
   "source": [
    "class Solution:\n",
    "    def lengthOfLastWord(self, s: str) -> int:\n",
    "        r_s = s[::-1]\n",
    "        n = 0\n",
    "        for w in r_s:\n",
    "            if (w == \" \") & (n != 0):\n",
    "                print(\"Here\")\n",
    "                break\n",
    "            elif (n==0) & (w==\" \"):\n",
    "                continue\n",
    "            else:\n",
    "                n += 1\n",
    "        return n\n",
    "    \n",
    "    def plusOne(self, digits: list[int]) -> list[int]:\n",
    "        th = 1\n",
    "        ans = 0\n",
    "        for ele in digits[::-1]:\n",
    "            if ans != 0:\n",
    "                th *= 10\n",
    "                ans += ele * th\n",
    "            else:\n",
    "                ans += ele + 1\n",
    "        return [int(x) for x in list(str(ans))]\n",
    "    \n",
    "    def addBinary(self, a: str, b: str) -> str:\n",
    "        s = []\n",
    "        carry = 0\n",
    "        i = len(a) - 1\n",
    "        j = len(b) - 1\n",
    "\n",
    "        while i >= 0 or j >= 0 or carry:\n",
    "            if i >= 0:\n",
    "                carry += int(a[i])\n",
    "                i -= 1\n",
    "            if j >= 0:\n",
    "                carry += int(b[j])\n",
    "                j -= 1\n",
    "            s.append(str(carry % 2))\n",
    "            carry //= 2\n",
    "\n",
    "        return ''.join(reversed(s))\n",
    "\n",
    "    def mySqrt(self, x: int) -> int:\n",
    "        if x == 1 or x == 0:\n",
    "            return x\n",
    "        else:\n",
    "            for k in range(2, x//2+1):\n",
    "                if (x / k) ** 2 < x:\n",
    "                    return k - 1\n",
    "                \n",
    "    def pureRecursive(self, n: int) -> int:\n",
    "        def climb(n):\n",
    "            if n == 1:\n",
    "                return 1\n",
    "            if n == 2:\n",
    "                return 2\n",
    "            if n == 3:\n",
    "                return 4\n",
    "            return climb(n-1) + climb(n-2) + climb(n - 3)\n",
    "        return climb(n)\n",
    "    \n",
    "    def loopUpTable(self, n: int) -> int:\n",
    "        \"\"\"\n",
    "        :type n: int\n",
    "        :return type: int\n",
    "        \"\"\"\n",
    "        memo ={}\n",
    "        memo[1] = 1\n",
    "        memo[2] = 2\n",
    "        \n",
    "        def climb(n):\n",
    "            if n in memo: # if the recurssion already done before first take a look-up in the look-up table\n",
    "                return memo[n]\n",
    "            else:   # Store the recurssion function in the look-up table and reuturn the stored look-up table function\n",
    "                memo[n] =  climb(n-1) + climb(n-2)\n",
    "                return memo[n]\n",
    "        \n",
    "        return climb(n)"
   ]
  },
  {
   "cell_type": "code",
   "execution_count": 107,
   "metadata": {},
   "outputs": [],
   "source": [
    "def merge(nums1: list[int], m: int, nums2: list[int], n: int) -> None:\n",
    "    \"\"\"\n",
    "    Do not return anything, modify nums1 in-place instead.\n",
    "    \"\"\"\n",
    "    ans = [0]*m\n",
    "    k = 0\n",
    "    for i in range(m):\n",
    "        curr = nums1[k]\n",
    "        while m < k:\n",
    "            if nums1[k] > nums2[i]:\n",
    "                ans.append(curr)\n",
    "                k += 1\n",
    "\n",
    "        \n",
    "    return nums1"
   ]
  },
  {
   "cell_type": "code",
   "execution_count": 319,
   "metadata": {},
   "outputs": [],
   "source": [
    "dict_climb = {\"1\": 1, \"2\": 2}\n",
    "def climb(n):\n",
    "    for i in range(3, n+1):\n",
    "        dict_climb[str(i)] = dict_climb[str(i-1)] + dict_climb[str(i-2)]\n",
    "\n",
    "    return dict_climb[str(n)]"
   ]
  },
  {
   "cell_type": "code",
   "execution_count": 330,
   "metadata": {},
   "outputs": [
    {
     "name": "stdout",
     "output_type": "stream",
     "text": [
      "2 2\n",
      "2 1\n",
      "[6, 5, [1, 2, 3]]\n"
     ]
    }
   ],
   "source": [
    "nums1 = [1,2,3,0,0,0]\n",
    "m = 3\n",
    "nums2 = [2,5,6]\n",
    "n = 3\n",
    "ans = []\n",
    "nums1 = nums1[:-n]\n",
    "\n",
    "m -= 1\n",
    "n -= 1\n",
    "while m>-1 or n>-1:\n",
    "    print(m, n)\n",
    "    if nums1[m] > nums2[n]:\n",
    "        ans.append(nums1[m])\n",
    "        m -= 1\n",
    "        if m == 0:\n",
    "            ans.append(nums2)\n",
    "            break\n",
    "    else:\n",
    "        ans.append(nums2[n])\n",
    "        n -= 1\n",
    "        if n == 0:\n",
    "            ans.append(nums1)\n",
    "            break\n",
    "print(ans)"
   ]
  },
  {
   "cell_type": "code",
   "execution_count": null,
   "metadata": {},
   "outputs": [],
   "source": []
  },
  {
   "cell_type": "code",
   "execution_count": 402,
   "metadata": {},
   "outputs": [
    {
     "name": "stdout",
     "output_type": "stream",
     "text": [
      "600\n"
     ]
    }
   ],
   "source": [
    "N, D = map(int, input().split())\n",
    "T = list(map(int, input().split()))\n",
    "j = 0\n",
    "ans = -1\n",
    "while (N-1) > j:\n",
    "    # print(i)\n",
    "    # print(T[i] - T[i-1])\n",
    "    if T[j+1] - T[j] <= D:\n",
    "        ans = T[j+1]\n",
    "        break\n",
    "    j += 1\n",
    "\n",
    "print(ans)"
   ]
  },
  {
   "cell_type": "code",
   "execution_count": 6,
   "metadata": {},
   "outputs": [
    {
     "name": "stdout",
     "output_type": "stream",
     "text": [
      "1300\n"
     ]
    }
   ],
   "source": [
    "N, D = map(int, input().split())\n",
    "T = list(map(int, input().split()))\n",
    "\n",
    "ans = -1\n",
    "for i in range(len(T)-1):\n",
    "    if T[i+1] - T[i] <= D:\n",
    "        ans = T[i+1]\n",
    "        break\n",
    "\n",
    "print(ans)"
   ]
  },
  {
   "cell_type": "code",
   "execution_count": 13,
   "metadata": {},
   "outputs": [
    {
     "name": "stdout",
     "output_type": "stream",
     "text": [
      "No\n"
     ]
    }
   ],
   "source": [
    "S = input()\n",
    "\n",
    "\n",
    "ans = \"No\"\n",
    "\n",
    "if (S.find(\"B\")%2) != (S.rfind(\"B\")%2):\n",
    "    if S.find(\"R\") < S.find(\"K\") < S.rfind(\"R\"):\n",
    "        ans = \"Yes\"\n",
    "\n",
    "print(ans)"
   ]
  },
  {
   "cell_type": "code",
   "execution_count": 18,
   "metadata": {},
   "outputs": [
    {
     "name": "stdout",
     "output_type": "stream",
     "text": [
      "PCT..\n",
      ".PCT.\n",
      "PCPCT\n"
     ]
    }
   ],
   "source": [
    "H, W = map(int, input().split())\n",
    "for _ in range(H):\n",
    "    S = list(input())\n",
    "    i = 0\n",
    "    while i <= len(S)-2:\n",
    "        if S[i] + S[i+1] == \"TT\":\n",
    "            S[i] = \"P\"\n",
    "            S[i+1] = \"C\"\n",
    "            i += 2\n",
    "        else:\n",
    "            i += 1\n",
    "    print(\"\".join(S))"
   ]
  },
  {
   "cell_type": "code",
   "execution_count": 34,
   "metadata": {},
   "outputs": [
    {
     "name": "stdout",
     "output_type": "stream",
     "text": [
      "15\n"
     ]
    }
   ],
   "source": [
    "A, B = map(int, input().split())\n",
    "\n",
    "def swap(a, b):\n",
    "    if (b > a): a, b = b, a\n",
    "    return a, b\n",
    "\n",
    "A, B = swap(A, B)\n",
    "cnt = 0\n",
    "while (B>0):\n",
    "    cnt += A // B\n",
    "    A %= B\n",
    "    A, B = swap(A, B)\n",
    "cnt -= 1\n",
    "print(cnt)"
   ]
  },
  {
   "cell_type": "code",
   "execution_count": 18,
   "metadata": {},
   "outputs": [
    {
     "name": "stdout",
     "output_type": "stream",
     "text": [
      "2\n",
      "0\n",
      "[2, 1, 3]\n"
     ]
    }
   ],
   "source": [
    "def swap(a, b):\n",
    "    if (b > a):\n",
    "        a, b = b, a\n",
    "    return a, b\n",
    "\n",
    "def bubbleSort(A, N):\n",
    "    flag = 1\n",
    "    i = 0\n",
    "    while flag:\n",
    "        flag = 0\n",
    "        for j in range(N-1, i+3):\n",
    "            print(j)\n",
    "            if A[j] < A[j-1]:\n",
    "                A[j], A[j-1] = swap(A[j], A[j-1])\n",
    "                flag = 1\n",
    "        print(i)\n",
    "        i += 1\n",
    "    return A\n",
    "\n",
    "\n",
    "print(bubbleSort([2, 1, 3], 3))\n",
    "    "
   ]
  },
  {
   "cell_type": "code",
   "execution_count": null,
   "metadata": {},
   "outputs": [],
   "source": []
  }
 ],
 "metadata": {
  "kernelspec": {
   "display_name": "mido_test",
   "language": "python",
   "name": "python3"
  },
  "language_info": {
   "codemirror_mode": {
    "name": "ipython",
    "version": 3
   },
   "file_extension": ".py",
   "mimetype": "text/x-python",
   "name": "python",
   "nbconvert_exporter": "python",
   "pygments_lexer": "ipython3",
   "version": "3.9.0"
  },
  "orig_nbformat": 4
 },
 "nbformat": 4,
 "nbformat_minor": 2
}
