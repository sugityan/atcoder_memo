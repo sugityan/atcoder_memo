{
 "cells": [
  {
   "attachments": {},
   "cell_type": "markdown",
   "metadata": {},
   "source": [
    "# コピーした変数が、コピー元の変数に連動して変化する。"
   ]
  },
  {
   "cell_type": "code",
   "execution_count": 2,
   "metadata": {},
   "outputs": [
    {
     "name": "stdout",
     "output_type": "stream",
     "text": [
      "[[1, 2, 3], [4, 5, 6], [7, 8, 9]]\n",
      "[[1, 2, 3], [4, 5, 6], [7, 8, 9]]\n",
      "[[1, 2, 3], [4, 5, 6], [1, 8, 9]]\n",
      "[[1, 2, 3], [4, 5, 6], [1, 4, 9]]\n",
      "[[1, 2, 3], [4, 5, 6], [1, 4, 1]]\n",
      "[[1, 2, 3], [2, 5, 6], [1, 4, 1]]\n",
      "[[1, 2, 3], [2, 5, 6], [1, 4, 1]]\n",
      "[[1, 2, 3], [2, 5, 4], [1, 4, 1]]\n",
      "[[3, 2, 3], [2, 5, 4], [1, 4, 1]]\n",
      "[[3, 4, 3], [2, 5, 4], [1, 4, 1]]\n"
     ]
    },
    {
     "data": {
      "text/plain": [
       "[[3, 4, 1], [2, 5, 4], [1, 4, 1]]"
      ]
     },
     "execution_count": 2,
     "metadata": {},
     "output_type": "execute_result"
    }
   ],
   "source": [
    "mymatlix = [\n",
    "    [1,2,3],\n",
    "    [4,5,6],\n",
    "    [7,8,9]]\n",
    "# pre_mymatlix = [\n",
    "#     [1,2,3],\n",
    "#     [4,5,6],\n",
    "#     [7,8,9]]\n",
    "'''\n",
    "問題：コピーした変数が、コピー元の変数に連動して変化する。\n",
    "\n",
    "対策:以下で質問\n",
    "https://teratail.com/questions/gqpyjznf4d82t0\n",
    "'''\n",
    "pre_mymatlix = mymatlix.copy()\n",
    "print(pre_mymatlix)\n",
    "N = 3\n",
    "for i in range(N):\n",
    "    for j in range(N):\n",
    "        print(pre_mymatlix)\n",
    "        mymatlix[N-i-1][j] = pre_mymatlix[j][i]\n",
    "mymatlix"
   ]
  },
  {
   "cell_type": "code",
   "execution_count": null,
   "metadata": {},
   "outputs": [],
   "source": []
  }
 ],
 "metadata": {
  "kernelspec": {
   "display_name": "mido_test",
   "language": "python",
   "name": "python3"
  },
  "language_info": {
   "codemirror_mode": {
    "name": "ipython",
    "version": 3
   },
   "file_extension": ".py",
   "mimetype": "text/x-python",
   "name": "python",
   "nbconvert_exporter": "python",
   "pygments_lexer": "ipython3",
   "version": "3.9.0"
  },
  "orig_nbformat": 4
 },
 "nbformat": 4,
 "nbformat_minor": 2
}
